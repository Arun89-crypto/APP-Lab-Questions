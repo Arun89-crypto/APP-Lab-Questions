{
  "cells": [
    {
      "cell_type": "markdown",
      "metadata": {
        "colab_type": "text",
        "id": "view-in-github"
      },
      "source": [
        "<a href=\"https://colab.research.google.com/github/Arun89-crypto/APP-Lab-Questions/blob/main/APP_(Lab_Session_4).ipynb\" target=\"_parent\"><img src=\"https://colab.research.google.com/assets/colab-badge.svg\" alt=\"Open In Colab\"/></a>"
      ]
    },
    {
      "cell_type": "markdown",
      "metadata": {
        "id": "chL2Jj0ZuzAG"
      },
      "source": [
        "# Easy Questions"
      ]
    },
    {
      "cell_type": "markdown",
      "metadata": {
        "id": "ouzlSQTRu4Iy"
      },
      "source": [
        "1. Write a program to print the names of the departments students by\n",
        "creating a Dept class. If no name is passed while creating an object of the\n",
        "Dept class, then the name should be &quot;SCO&quot;, otherwise the name should\n",
        "be equal to the String value passed while creating the object of the Dept\n",
        "class."
      ]
    },
    {
      "cell_type": "code",
      "execution_count": null,
      "metadata": {
        "colab": {
          "base_uri": "https://localhost:8080/"
        },
        "id": "OYrfD6OQu_Ro",
        "outputId": "496c4e93-1a6b-44e1-d827-68799a139b10"
      },
      "outputs": [
        {
          "name": "stdout",
          "output_type": "stream",
          "text": [
            "The name is : SCO\n",
            "The name is : Person 2\n"
          ]
        }
      ],
      "source": [
        "class Dept:\n",
        "  def __init__(self,name=\"SCO\"):\n",
        "    self.name = name\n",
        "  \n",
        "  def printData(self):\n",
        "    print(f\"The name is : {self.name}\")\n",
        "\n",
        "\n",
        "p1 = Dept() # object 1\n",
        "p2 = Dept(\"Person 2\") # object 2\n",
        "p1.printData()\n",
        "p2.printData()"
      ]
    },
    {
      "cell_type": "markdown",
      "metadata": {
        "id": "jaksj5-IwWik"
      },
      "source": [
        "2. Create a class named &#39;Rectangle&#39; with two data members- length\n",
        "and breadth and a function to calculate the area which is &#39;length*breadth&#39;.\n",
        "\n",
        "  The class has three constructors which are :\n",
        "\n",
        "  1 - having no parameter - values of both length and breadth are assigned\n",
        "zero.\n",
        "\n",
        "  2 - having two numbers as parameters - the two numbers are assigned as\n",
        "length and breadth respectively.\n",
        "\n",
        "  3 - having one number as parameter - both length and breadth are\n",
        "assigned that number.\n",
        "Now, create objects of the &#39;Rectangle&#39; class having none, one and two\n",
        "parameters and print their areas."
      ]
    },
    {
      "cell_type": "code",
      "execution_count": null,
      "metadata": {
        "colab": {
          "base_uri": "https://localhost:8080/"
        },
        "id": "6S0MAI6awcS5",
        "outputId": "56f6bf2f-a7ec-4ebd-af87-27968ba67932"
      },
      "outputs": [
        {
          "name": "stdout",
          "output_type": "stream",
          "text": [
            "The area of rectangle is : 0\n",
            "The area of rectangle is : 0\n",
            "The area of rectangle is : 16\n"
          ]
        }
      ],
      "source": [
        "class Rectangle:\n",
        "  def __init__(self,length=0,breadth=0):\n",
        "    self.length = length\n",
        "    self.breadth = breadth\n",
        "  \n",
        "  def printArea(self):\n",
        "    print(f\"The area of rectangle is : {self.length * self.breadth}\")\n",
        "\n",
        "r1 = Rectangle()\n",
        "r2 = Rectangle(3)\n",
        "r3 = Rectangle(2,8)\n",
        "r1.printArea()\n",
        "r2.printArea()\n",
        "r3.printArea()"
      ]
    },
    {
      "cell_type": "markdown",
      "metadata": {
        "id": "z9vuX4ECxPpU"
      },
      "source": [
        "3. Create a Time class and initialize it with hours and minutes.\n",
        "\n",
        "  - Make a method addTime which should take two time object and add\n",
        "them. E.g.- (2 hour and 50 min)+(1 hr and 20 min) is (4 hr and 10 min)\n",
        "  - Make a method displayTime which should print the time.\n",
        "  - Make a method DisplayMinute which should display the total minutes\n",
        "in the Time. E.g.- (1 hr 2 min) should display 62 minute."
      ]
    },
    {
      "cell_type": "code",
      "execution_count": null,
      "metadata": {
        "colab": {
          "base_uri": "https://localhost:8080/"
        },
        "id": "y077ukMxxhkv",
        "outputId": "9659d6d6-1745-4f9a-bfd0-64c2b19860a7"
      },
      "outputs": [
        {
          "name": "stdout",
          "output_type": "stream",
          "text": [
            "HH:MM = 12:30\n",
            "HH:MM = 2:10\n",
            "HH:MM = 14:40\n"
          ]
        }
      ],
      "source": [
        "class Time:\n",
        "  def __init__(self, hour,minute):\n",
        "    self.hour = hour\n",
        "    self.minute = minute\n",
        "  \n",
        "  def __add__(self, other):\n",
        "    return Time(self.hour + other.hour, self.minute + other.minute)\n",
        "  \n",
        "  def displayTime(self):\n",
        "    print(f\"HH:MM = {self.hour}:{self.minute}\")\n",
        "  \n",
        "  def displayMinute(self):\n",
        "    print(f\"The time in minutes is : {self.hour*60 + self.minute}\")\n",
        "\n",
        "\n",
        "t1 = Time(12,30)\n",
        "t1.displayTime()\n",
        "t2 = Time(2,10)\n",
        "t2.displayTime()\n",
        "t3 = t1 + t2\n",
        "t3.displayTime()"
      ]
    },
    {
      "cell_type": "markdown",
      "metadata": {
        "id": "QU76SuM1U_qv"
      },
      "source": [
        "# Difficult Questions (SET 9)"
      ]
    },
    {
      "cell_type": "markdown",
      "metadata": {
        "id": "Q_cHB73wVGpG"
      },
      "source": [
        "1. Write a Python program to show that the variables with a value assigned in class\n",
        "declaration, are class variables and variables inside methods and constructors are\n",
        "instance variables."
      ]
    },
    {
      "cell_type": "code",
      "execution_count": null,
      "metadata": {
        "colab": {
          "base_uri": "https://localhost:8080/"
        },
        "id": "E2jUUXP_VLwc",
        "outputId": "27399dbe-c4a9-4229-f099-5c5f9c5a7e95"
      },
      "outputs": [
        {
          "name": "stdout",
          "output_type": "stream",
          "text": [
            "Sammy\n",
            "ocean\n",
            "Stevie\n",
            "This user has 77 followers\n",
            "fish\n"
          ]
        }
      ],
      "source": [
        "class SEA:\n",
        "    # Class variables\n",
        "    animal_type = \"fish\"\n",
        "    location = \"ocean\"\n",
        "\n",
        "    # Constructor method with instance variables name and age\n",
        "    def __init__(self, name, age):\n",
        "        self.name = name\n",
        "        self.age = age\n",
        "\n",
        "    # Method with instance variable followers\n",
        "    def set_followers(self, followers):\n",
        "        print(\"This user has \" + str(followers) + \" followers\")\n",
        "\n",
        "\n",
        "def main():\n",
        "    sammy = SEA(\"Sammy\", 5)\n",
        "    print(sammy.name)\n",
        "    print(sammy.location)\n",
        "    stevie = SEA(\"Stevie\", 8)\n",
        "    print(stevie.name)\n",
        "    stevie.set_followers(77)\n",
        "    print(stevie.animal_type)\n",
        "\n",
        "if __name__ == \"__main__\":\n",
        "    main()\n",
        "\n",
        "# OUTPUT\n",
        "# ------\n",
        "# Sammy\n",
        "# ocean\n",
        "# Stevie\n",
        "# This user has 77 followers\n",
        "# fish"
      ]
    },
    {
      "cell_type": "markdown",
      "metadata": {
        "id": "h44vAiqwXX_N"
      },
      "source": [
        "2. Write a Python program to show that we can create instance variables inside methods"
      ]
    },
    {
      "cell_type": "code",
      "execution_count": null,
      "metadata": {
        "colab": {
          "base_uri": "https://localhost:8080/"
        },
        "id": "nbZBemR2XahM",
        "outputId": "d18ce343-4a7e-45f2-b373-2effc442db99"
      },
      "outputs": [
        {
          "name": "stdout",
          "output_type": "stream",
          "text": [
            "NAME : Arun , AGE : 12\n"
          ]
        }
      ],
      "source": [
        "class CLASS_A:\n",
        "  # Constructor method with instance variables name and age\n",
        "    def __init__(self, name, age):\n",
        "        self.name = name\n",
        "        self.age = age\n",
        "    def displayData(self):\n",
        "      print(f\"NAME : {self.name} , AGE : {self.age}\")\n",
        "\n",
        "def main():\n",
        "  obj1 = CLASS_A(\"Arun\", 12)\n",
        "  obj1.displayData()\n",
        "\n",
        "if __name__ == \"__main__\":\n",
        "    main()"
      ]
    },
    {
      "cell_type": "markdown",
      "metadata": {
        "id": "Nf2d6pIwYVXl"
      },
      "source": [
        "3. Write a\n",
        "python program to access hidden variable outside the class using object and which threw\n",
        "an exception."
      ]
    },
    {
      "cell_type": "code",
      "execution_count": null,
      "metadata": {
        "colab": {
          "base_uri": "https://localhost:8080/"
        },
        "id": "3GmH_hP4YttZ",
        "outputId": "c0614f28-4322-40f7-813c-c952af43cfcc"
      },
      "outputs": [
        {
          "name": "stdout",
          "output_type": "stream",
          "text": [
            "2\n",
            "7\n"
          ]
        }
      ],
      "source": [
        "class MyClass:\n",
        "    # Hidden member of MyClass\n",
        "    __hiddenVariable = 0\n",
        "   \n",
        "    # A member method that changes\n",
        "    # __hiddenVariable\n",
        "    def add(self, increment):\n",
        "        self.__hiddenVariable += increment\n",
        "        print (self.__hiddenVariable)\n",
        "\n",
        "# Driver code\n",
        "myObject = MyClass()\n",
        "myObject.add(2)\n",
        "myObject.add(5)\n",
        " "
      ]
    }
  ],
  "metadata": {
    "colab": {
      "authorship_tag": "ABX9TyMPKudwc+I0pM8tYgB4AhBT",
      "collapsed_sections": [],
      "include_colab_link": true,
      "name": "APP (Lab Session 4)",
      "provenance": []
    },
    "kernelspec": {
      "display_name": "Python 3",
      "name": "python3"
    },
    "language_info": {
      "name": "python"
    }
  },
  "nbformat": 4,
  "nbformat_minor": 0
}
