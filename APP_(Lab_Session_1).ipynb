{
  "nbformat": 4,
  "nbformat_minor": 0,
  "metadata": {
    "colab": {
      "name": "APP (Lab Session 1)",
      "provenance": [],
      "collapsed_sections": [],
      "authorship_tag": "ABX9TyOhSQnbPvBzkQcLjhHw2h0U",
      "include_colab_link": true
    },
    "kernelspec": {
      "name": "python3",
      "display_name": "Python 3"
    },
    "language_info": {
      "name": "python"
    }
  },
  "cells": [
    {
      "cell_type": "markdown",
      "metadata": {
        "id": "view-in-github",
        "colab_type": "text"
      },
      "source": [
        "<a href=\"https://colab.research.google.com/github/Arun89-crypto/APP-Lab-Questions/blob/main/APP_(Lab_Session_1).ipynb\" target=\"_parent\"><img src=\"https://colab.research.google.com/assets/colab-badge.svg\" alt=\"Open In Colab\"/></a>"
      ]
    },
    {
      "cell_type": "markdown",
      "source": [
        "1. Write a program to print the statement Hello,world! in python."
      ],
      "metadata": {
        "id": "6DClGvjcE0pk"
      }
    },
    {
      "cell_type": "code",
      "execution_count": 2,
      "metadata": {
        "colab": {
          "base_uri": "https://localhost:8080/"
        },
        "id": "l-qjS37iEdwI",
        "outputId": "aa6bf59a-911f-46fb-bae8-c63635bae0c7"
      },
      "outputs": [
        {
          "output_type": "stream",
          "name": "stdout",
          "text": [
            "Hello World\n"
          ]
        }
      ],
      "source": [
        "print(\"Hello World\")"
      ]
    },
    {
      "cell_type": "markdown",
      "source": [
        "2. Write a program to perform addition of two number in python."
      ],
      "metadata": {
        "id": "4ekHLM3qE5UG"
      }
    },
    {
      "cell_type": "code",
      "source": [
        "a = 1.5\n",
        "b = 2.5\n",
        "print(f\"The sum of {a} and {b} is : {a+b}\")"
      ],
      "metadata": {
        "colab": {
          "base_uri": "https://localhost:8080/"
        },
        "id": "q0mKOxgtE9K6",
        "outputId": "b8e4ab2a-6ebe-4d5f-d596-09cc97c27858"
      },
      "execution_count": 3,
      "outputs": [
        {
          "output_type": "stream",
          "name": "stdout",
          "text": [
            "The sum of 1.5 and 2.5 is : 4.0\n"
          ]
        }
      ]
    },
    {
      "cell_type": "markdown",
      "source": [
        "3. Write a program to calculate the square root of the number in python."
      ],
      "metadata": {
        "id": "_tE-MsCCFOIv"
      }
    },
    {
      "cell_type": "code",
      "source": [
        "a = float(input(\"Enter the number : \"))\n",
        "sq_root = a ** 0.5\n",
        "print(sq_root)"
      ],
      "metadata": {
        "colab": {
          "base_uri": "https://localhost:8080/"
        },
        "id": "EtxNJCaMFSCq",
        "outputId": "4ec19185-72c5-4ff3-fd6a-eee8ced7cb7e"
      },
      "execution_count": 5,
      "outputs": [
        {
          "output_type": "stream",
          "name": "stdout",
          "text": [
            "Enter the number : 100\n",
            "10.0\n"
          ]
        }
      ]
    },
    {
      "cell_type": "markdown",
      "source": [
        "4. Write a program to find the area of triangle in python."
      ],
      "metadata": {
        "id": "-QPAuxaHFtTr"
      }
    },
    {
      "cell_type": "code",
      "source": [
        "a = int(input(\"Enter side A : \"))\n",
        "b = int(input(\"Enter side B : \"))\n",
        "c = int(input(\"Enter side C : \"))\n",
        "\n",
        "S = (a + b + c)/2 # Semi parameter\n",
        "Area = S*(S-a)*(S-b)*(S-c)\n",
        "Area = Area**0.5\n",
        "\n",
        "print(f\"The area of triangle with vertices {a},{b} and {c} is : {Area}\")"
      ],
      "metadata": {
        "colab": {
          "base_uri": "https://localhost:8080/"
        },
        "id": "xCJlgGEFFwbT",
        "outputId": "683662f9-a0d9-4b3c-fb75-f8ee2ddc8617"
      },
      "execution_count": 6,
      "outputs": [
        {
          "output_type": "stream",
          "name": "stdout",
          "text": [
            "Enter side A : 4\n",
            "Enter side B : 5\n",
            "Enter side C : 7\n",
            "The area of triangle with vertices 4,5 and 7 is : 9.797958971132712\n"
          ]
        }
      ]
    },
    {
      "cell_type": "markdown",
      "source": [
        "5. Write a program to find out the quadratic equation in python."
      ],
      "metadata": {
        "id": "3AXm5YWeGpeW"
      }
    },
    {
      "cell_type": "code",
      "source": [
        "# Take inputs\n",
        "a = int(input(\"Enter Coefficient of x^2 (a) : \"))\n",
        "b = int(input(\"Enter Coefficient of x (b) : \"))\n",
        "c = int(input(\"Enter Coefficient of 1 (c) : \"))\n",
        "\n",
        "# Calculation \n",
        "D = (b**2) - (4*a*c)\n",
        "D_root = D**0.5\n",
        "\n",
        "Sol1 = (-b + D_root)/(2*a)\n",
        "Sol2 = (-b - D_root)/(2*a)\n",
        "\n",
        "# Output\n",
        "print(f\"the solutions of the equations are : {Sol1} & {Sol2}\")\n"
      ],
      "metadata": {
        "colab": {
          "base_uri": "https://localhost:8080/"
        },
        "id": "ZwInFXWAGu1p",
        "outputId": "bc29916f-ebde-4339-bcb8-a124eee063dc"
      },
      "execution_count": 7,
      "outputs": [
        {
          "output_type": "stream",
          "name": "stdout",
          "text": [
            "Enter Coefficient of x^2 (a) : 1\n",
            "Enter Coefficient of x (b) : -5\n",
            "Enter Coefficient of 1 (c) : 6\n",
            "the solutions of the equations are : 3.0 & 2.0\n"
          ]
        }
      ]
    },
    {
      "cell_type": "markdown",
      "source": [
        "6. Write a program to swapping of two numbers in python."
      ],
      "metadata": {
        "id": "uk6salG3H-sd"
      }
    },
    {
      "cell_type": "code",
      "source": [
        "x = int(input(\"Enter first number : \"))\n",
        "y = int(input(\"Enter second number : \"))\n",
        "\n",
        "# Swapping\n",
        "c = y\n",
        "y = x\n",
        "x = c\n",
        "\n",
        "print(f\"The numbers after swapping are {x} & {y}\")\n",
        "\n"
      ],
      "metadata": {
        "colab": {
          "base_uri": "https://localhost:8080/"
        },
        "id": "OHN7LZIoIByQ",
        "outputId": "8b25f511-7869-47d2-b0d9-ce18ea0c39e8"
      },
      "execution_count": 9,
      "outputs": [
        {
          "output_type": "stream",
          "name": "stdout",
          "text": [
            "Enter first number : 2\n",
            "Enter second number : 3\n",
            "The numbers after swapping are 3 & 2\n"
          ]
        }
      ]
    },
    {
      "cell_type": "markdown",
      "source": [
        "7. Write a program to generate a random number between 0 and 9 in python."
      ],
      "metadata": {
        "id": "ivSZgqAjIsZR"
      }
    },
    {
      "cell_type": "code",
      "source": [
        "import random\n",
        "\n",
        "a = random.randint(0,9)\n",
        "\n",
        "print(f\"Random number between 0 and 9 is : {a}\")"
      ],
      "metadata": {
        "colab": {
          "base_uri": "https://localhost:8080/"
        },
        "id": "XnNOruROIxat",
        "outputId": "d9b2ac52-87e5-451c-ab19-828c043e483f"
      },
      "execution_count": 14,
      "outputs": [
        {
          "output_type": "stream",
          "name": "stdout",
          "text": [
            "Random number between 0 and 9 is : 3\n"
          ]
        }
      ]
    },
    {
      "cell_type": "markdown",
      "source": [
        "8. Write a program to Taking kilometers input from the user in python"
      ],
      "metadata": {
        "id": "xs41uWJYJK7B"
      }
    },
    {
      "cell_type": "code",
      "source": [
        "km = float(input(\"Enter the kilometers : \"))\n",
        "miles = km*0.621371\n",
        "\n",
        "print(f\"{km} kms = {miles} miles\")"
      ],
      "metadata": {
        "colab": {
          "base_uri": "https://localhost:8080/"
        },
        "id": "p8TK7Q4JJYl7",
        "outputId": "ab0f8d32-a359-4463-c1fc-5c1be757d16b"
      },
      "execution_count": 16,
      "outputs": [
        {
          "output_type": "stream",
          "name": "stdout",
          "text": [
            "Enter the kilometers : 100\n",
            "100.0 kms = 62.137100000000004 miles\n"
          ]
        }
      ]
    },
    {
      "cell_type": "markdown",
      "source": [
        "9. Write a program to convert temperature in celsius to fahrenheit in python."
      ],
      "metadata": {
        "id": "EJbbUWRsJ3Ds"
      }
    },
    {
      "cell_type": "code",
      "source": [
        "celsius = float(input(\"Enter the temp in celsius : \"))\n",
        "\n",
        "fahrenheit = (celsius*(9/5))+32\n",
        "\n",
        "print(f\"The temparature in fahrenheit is : {fahrenheit}\")"
      ],
      "metadata": {
        "colab": {
          "base_uri": "https://localhost:8080/"
        },
        "id": "mI9RSU_cJ6Os",
        "outputId": "b4de671e-a5a2-4af2-bd65-eb3c1ebc213b"
      },
      "execution_count": 17,
      "outputs": [
        {
          "output_type": "stream",
          "name": "stdout",
          "text": [
            "Enter the temp in celsius : 100\n",
            "The temparature in fahrenheit is : 212.0\n"
          ]
        }
      ]
    },
    {
      "cell_type": "markdown",
      "source": [
        "10. Write a program to check if the input number is odd or even in python."
      ],
      "metadata": {
        "id": "XSo7qqMcKlBe"
      }
    },
    {
      "cell_type": "code",
      "source": [
        "number = int(input(\"Enter the number : \"))\n",
        "if(number%2 == 0):\n",
        "  print(\"The number is Even\")\n",
        "else:\n",
        "  print(\"The number is Odd\")"
      ],
      "metadata": {
        "colab": {
          "base_uri": "https://localhost:8080/"
        },
        "id": "gKQj_aUOK1EU",
        "outputId": "c316669e-013c-48c3-b312-e83d34fa87b4"
      },
      "execution_count": 18,
      "outputs": [
        {
          "output_type": "stream",
          "name": "stdout",
          "text": [
            "Enter the number : 11\n",
            "The number is Odd\n"
          ]
        }
      ]
    },
    {
      "cell_type": "markdown",
      "source": [
        "11. Write a program to check if year is a leap year or not in python."
      ],
      "metadata": {
        "id": "Ta6sPwQyLPHL"
      }
    },
    {
      "cell_type": "code",
      "source": [
        "year = int(input(\"Enter the year : \"))\n",
        "\n",
        "if(year%400 and year%100):\n",
        "  print(f\"Year : {year} is a leap year\")\n",
        "elif(year%4==0 or year%100 != 0):\n",
        "  print(f\"Year : {year} is a leap year\")\n",
        "else:\n",
        "  print(f\"Year : {year} is not a leap year\")"
      ],
      "metadata": {
        "colab": {
          "base_uri": "https://localhost:8080/"
        },
        "id": "F2-FRPcvLSY7",
        "outputId": "d7140663-1202-49ac-8078-e9f4f4103d2b"
      },
      "execution_count": 21,
      "outputs": [
        {
          "output_type": "stream",
          "name": "stdout",
          "text": [
            "Enter the year : 2000\n",
            "Year : 2000 is a leap year\n"
          ]
        }
      ]
    },
    {
      "cell_type": "markdown",
      "source": [
        "12. Write a program to find the largest number among the three input numbers in python."
      ],
      "metadata": {
        "id": "fg7R3NbONDxK"
      }
    },
    {
      "cell_type": "code",
      "source": [
        "a = float(input(\"Enter number A : \"))\n",
        "b = float(input(\"Enter number B : \"))\n",
        "c = float(input(\"Enter number C : \"))\n",
        "\n",
        "\n",
        "if(a > b):\n",
        "  if(a > c):\n",
        "    print(f\"The larget of the three numbers is {a}\")\n",
        "  else:\n",
        "    print(f\"The larget of the three numbers is {c}\")\n",
        "else:\n",
        "  if(c > b):\n",
        "    print(f\"The larget of the three numbers is {c}\")\n",
        "  else:\n",
        "    print(f\"The larget of the three numbers is {b}\")\n",
        "\n"
      ],
      "metadata": {
        "colab": {
          "base_uri": "https://localhost:8080/"
        },
        "id": "IoHERI2hNIw8",
        "outputId": "593de4b8-f1b1-4363-94fc-8581a5a6bc1b"
      },
      "execution_count": 29,
      "outputs": [
        {
          "output_type": "stream",
          "name": "stdout",
          "text": [
            "Enter number A : 2\n",
            "Enter number B : 4\n",
            "Enter number C : 3\n",
            "The larget of the three numbers is 4.0\n"
          ]
        }
      ]
    },
    {
      "cell_type": "markdown",
      "source": [
        "13. Write a program to check if a number is prime or not"
      ],
      "metadata": {
        "id": "WRt2v9q7OnSM"
      }
    },
    {
      "cell_type": "code",
      "source": [
        "number = int(input(\"Enter the number : \"))\n",
        "\n",
        "flag=True\n",
        "\n",
        "for i in range(2,number):\n",
        "  if(number%i == 0):\n",
        "    flag=False\n",
        "    break\n",
        "\n",
        "if(flag):\n",
        "  print(f\"The number {number} is a prime number\")\n",
        "else:\n",
        "  print(f\"The number {number} is not a prime number\")\n"
      ],
      "metadata": {
        "colab": {
          "base_uri": "https://localhost:8080/"
        },
        "id": "RghkM1irOrFC",
        "outputId": "67774d1b-202e-4562-be30-0630b7710a12"
      },
      "execution_count": 32,
      "outputs": [
        {
          "output_type": "stream",
          "name": "stdout",
          "text": [
            "Enter the number : 47\n",
            "The number 47 is a prime number\n"
          ]
        }
      ]
    },
    {
      "cell_type": "markdown",
      "source": [
        "14. Write a program to display all the prime numbers within an interval in python."
      ],
      "metadata": {
        "id": "wP2B8qR5PGaK"
      }
    },
    {
      "cell_type": "code",
      "source": [
        "a = int(input(\"Enter the first number of the interval : \"))\n",
        "b = int(input(\"Enter the second number of the interval : \"))\n",
        "\n",
        "arr= []\n",
        "\n",
        "for i in range(a,b+1):\n",
        "  flag = True\n",
        "  for j in range(2,i):\n",
        "    if i%j == 0:\n",
        "      flag = False\n",
        "      break\n",
        "  if(flag):\n",
        "    arr.append(i)\n",
        "\n",
        "print(f\"The prime numbers in range {a} and {b} is : \")\n",
        "print(arr)\n"
      ],
      "metadata": {
        "colab": {
          "base_uri": "https://localhost:8080/"
        },
        "id": "nJSUscKFPJfi",
        "outputId": "84f70045-5115-494e-a026-8f86318ea38b"
      },
      "execution_count": 34,
      "outputs": [
        {
          "output_type": "stream",
          "name": "stdout",
          "text": [
            "Enter the first number of the interval : 20\n",
            "Enter the second number of the interval : 50\n",
            "The prime numbers in range 20 and 50 is : \n",
            "[23, 29, 31, 37, 41, 43, 47]\n"
          ]
        }
      ]
    },
    {
      "cell_type": "markdown",
      "source": [
        "15. Write a program to find the factorial of a number provided by the user in python."
      ],
      "metadata": {
        "id": "cbiPsAo6QWhU"
      }
    },
    {
      "cell_type": "code",
      "source": [
        "number = int(input(\"Enter the number : \"))\n",
        "\n",
        "fac = 1\n",
        "for i in range(1,number+1):\n",
        "  fac = fac*i\n",
        "\n",
        "print(f\"The factorial of {number} is {fac}\")"
      ],
      "metadata": {
        "colab": {
          "base_uri": "https://localhost:8080/"
        },
        "id": "AzpyWr75QauW",
        "outputId": "691461fd-e65a-4365-b70c-337e2c371bcb"
      },
      "execution_count": 38,
      "outputs": [
        {
          "output_type": "stream",
          "name": "stdout",
          "text": [
            "Enter the number : 5\n",
            "The factorial of 5 is 120\n"
          ]
        }
      ]
    },
    {
      "cell_type": "markdown",
      "source": [
        "16. Write a program to find Multiplication table (from 1 to 10) in python."
      ],
      "metadata": {
        "id": "W1D8KwE8Q8WS"
      }
    },
    {
      "cell_type": "code",
      "source": [
        "number = int(input(\"Enter the number : \"))\n",
        "\n",
        "for i in range(1,number+1):\n",
        "  print(f\"{number} x {i} = {number*i}\")\n"
      ],
      "metadata": {
        "colab": {
          "base_uri": "https://localhost:8080/"
        },
        "id": "0ua2Fjz-Q_Md",
        "outputId": "088b73f1-a7a4-4d8b-8044-747ea5b64e63"
      },
      "execution_count": 39,
      "outputs": [
        {
          "output_type": "stream",
          "name": "stdout",
          "text": [
            "Enter the number : 10\n",
            "10 x 1 = 10\n",
            "10 x 2 = 20\n",
            "10 x 3 = 30\n",
            "10 x 4 = 40\n",
            "10 x 5 = 50\n",
            "10 x 6 = 60\n",
            "10 x 7 = 70\n",
            "10 x 8 = 80\n",
            "10 x 9 = 90\n",
            "10 x 10 = 100\n"
          ]
        }
      ]
    },
    {
      "cell_type": "markdown",
      "source": [
        "17. Write a Program to display the Fibonacci sequence up to n-th term"
      ],
      "metadata": {
        "id": "X2hJGH-gRd_p"
      }
    },
    {
      "cell_type": "code",
      "source": [
        "number = int(input(\"Enter the number : \"))\n",
        "\n",
        "def fobonacci(n):\n",
        "  a = 0\n",
        "  b = 1\n",
        "  if(n == 1):\n",
        "    print(a)\n",
        "  elif n == 2:\n",
        "    print(a)\n",
        "    print(b)\n",
        "  else:\n",
        "    print(a)\n",
        "    print(b)\n",
        "    for i in range(n-2):\n",
        "      num = a + b\n",
        "      a = b\n",
        "      b = num\n",
        "      print(num)\n",
        "\n",
        "fobonacci(number)"
      ],
      "metadata": {
        "colab": {
          "base_uri": "https://localhost:8080/"
        },
        "id": "TKd_ADTRRj6P",
        "outputId": "e9ec890e-c1c9-4dd0-ae42-bd0d7894a088"
      },
      "execution_count": 43,
      "outputs": [
        {
          "output_type": "stream",
          "name": "stdout",
          "text": [
            "Enter the number : 10\n",
            "0\n",
            "1\n",
            "1\n",
            "2\n",
            "3\n",
            "5\n",
            "8\n",
            "13\n",
            "21\n",
            "34\n"
          ]
        }
      ]
    },
    {
      "cell_type": "markdown",
      "source": [
        "18. Write a program to check if the number is an Armstrong number or not in python."
      ],
      "metadata": {
        "id": "j-uub6iPTGWE"
      }
    },
    {
      "cell_type": "code",
      "source": [
        "number = int(input(\"Enter the number : \"))\n",
        "\n",
        "sum = 0\n",
        "\n",
        "def cube(n):\n",
        "  return n**3\n",
        "\n",
        "temp = number\n",
        "while(temp != 0):\n",
        "  digit = int(temp%10)\n",
        "  sum = sum + cube(digit)\n",
        "  temp = int(temp/10)\n",
        "\n",
        "if(sum == number):\n",
        "  print(f\"The number {number} is an Armstrong number\")\n",
        "else:\n",
        "  print(f\"The number {number} is not an Armstrong number\")"
      ],
      "metadata": {
        "colab": {
          "base_uri": "https://localhost:8080/"
        },
        "id": "TbOXlaN4TKMw",
        "outputId": "854f8955-1561-48ac-87f4-7bc81811b5ac"
      },
      "execution_count": 50,
      "outputs": [
        {
          "output_type": "stream",
          "name": "stdout",
          "text": [
            "Enter the number : 154\n",
            "The number 154 is not an Armstrong number\n"
          ]
        }
      ]
    },
    {
      "cell_type": "markdown",
      "source": [
        "19. Write a Program to check Armstrong numbers in a certain interval in python"
      ],
      "metadata": {
        "id": "kCzwGULDVKca"
      }
    },
    {
      "cell_type": "code",
      "source": [
        "a = int(input(\"Enter the first number of an interval : \"))\n",
        "b = int(input(\"Enter the second number of an interval : \"))\n",
        "\n",
        "def cube(n):\n",
        "  return n**3\n",
        "\n",
        "def checkArmstrong(n):\n",
        "  sum = 0\n",
        "  temp = n\n",
        "  while(temp != 0):\n",
        "    digit = int(temp%10)\n",
        "    sum = sum + cube(digit)\n",
        "    temp = int(temp/10)\n",
        "  if(sum == n):\n",
        "    return True\n",
        "  else:\n",
        "    return False\n",
        "\n",
        "arr = []\n",
        "\n",
        "for i in range(a,b+1):\n",
        "  if(checkArmstrong(i) == True):\n",
        "    arr.append(i)\n",
        "\n",
        "print(f\"The Armstrong numbers in range {a} to {b} is :\")\n",
        "print(arr)"
      ],
      "metadata": {
        "colab": {
          "base_uri": "https://localhost:8080/"
        },
        "id": "uRYZbaH1VPGc",
        "outputId": "88788ff5-a78f-4079-f6eb-b1f87b43d927"
      },
      "execution_count": 56,
      "outputs": [
        {
          "output_type": "stream",
          "name": "stdout",
          "text": [
            "Enter the first number of an interval : 1\n",
            "Enter the second number of an interval : 500\n",
            "The Armstrong numbers in range 1 to 500 is :\n",
            "[1, 153, 370, 371, 407]\n"
          ]
        }
      ]
    },
    {
      "cell_type": "markdown",
      "source": [
        "20. Write a program to find Sum of natural numbers up to num in python."
      ],
      "metadata": {
        "id": "hb2xpgRvWjNp"
      }
    },
    {
      "cell_type": "code",
      "source": [
        "number = int(input(\"Enter the number : \"))\n",
        "\n",
        "sum = 0\n",
        "\n",
        "for i in range(1,number+1):\n",
        "  sum += i\n",
        "\n",
        "print(f\"The sum of first {number} natural numbers is {sum}\")"
      ],
      "metadata": {
        "colab": {
          "base_uri": "https://localhost:8080/"
        },
        "id": "vfCLCIv1Wr-a",
        "outputId": "fb097871-f3cd-4c95-fba6-79d99902c365"
      },
      "execution_count": 57,
      "outputs": [
        {
          "output_type": "stream",
          "name": "stdout",
          "text": [
            "Enter the number : 5\n",
            "The sum of first 5 natural numbers is 15\n"
          ]
        }
      ]
    },
    {
      "cell_type": "markdown",
      "source": [
        "21. Write a program to display the powers of 2 using anonymous function in python"
      ],
      "metadata": {
        "id": "TC9FhsU1XI-K"
      }
    },
    {
      "cell_type": "code",
      "source": [
        "terms = int(input(\"Enter the terms : \"))\n",
        "\n",
        "results = list(map(lambda x: 2 ** x, range(terms)))\n",
        "\n",
        "for i in range(terms):\n",
        "  print(f\"2 to the power {i} is : {results[i]}\")\n",
        "\n"
      ],
      "metadata": {
        "colab": {
          "base_uri": "https://localhost:8080/"
        },
        "id": "bOxCDi7hXTnq",
        "outputId": "4fc724b2-e064-4d42-e3e7-fbadf12f94d5"
      },
      "execution_count": 58,
      "outputs": [
        {
          "output_type": "stream",
          "name": "stdout",
          "text": [
            "Enter the terms : 10\n",
            "2 to the power 0 is : 1\n",
            "2 to the power 1 is : 2\n",
            "2 to the power 2 is : 4\n",
            "2 to the power 3 is : 8\n",
            "2 to the power 4 is : 16\n",
            "2 to the power 5 is : 32\n",
            "2 to the power 6 is : 64\n",
            "2 to the power 7 is : 128\n",
            "2 to the power 8 is : 256\n",
            "2 to the power 9 is : 512\n"
          ]
        }
      ]
    },
    {
      "cell_type": "markdown",
      "source": [
        "22. Write a program to convert decimal into other number systems in python"
      ],
      "metadata": {
        "id": "9SWdl_E1YfRa"
      }
    },
    {
      "cell_type": "code",
      "source": [
        "number = int(input(\"Enter the number : \"))\n",
        "\n",
        "print(f\"{bin(number)} in Binary\")\n",
        "print(f\"{oct(number)} in Octal\")\n",
        "print(f\"{hex(number)} in Hexadecimal\")\n"
      ],
      "metadata": {
        "colab": {
          "base_uri": "https://localhost:8080/"
        },
        "id": "6UnkVRcaYovT",
        "outputId": "95770b7e-10ba-470e-eed2-ae9285fe9bb6"
      },
      "execution_count": 59,
      "outputs": [
        {
          "output_type": "stream",
          "name": "stdout",
          "text": [
            "Enter the number : 20\n",
            "0b10100 in Binary\n",
            "0o24 in Octal\n",
            "0x14 in Hexadecimal\n"
          ]
        }
      ]
    },
    {
      "cell_type": "markdown",
      "source": [
        "23. Write a Program to find the ASCII value of the given character in python."
      ],
      "metadata": {
        "id": "dKAxGgQuZMU_"
      }
    },
    {
      "cell_type": "code",
      "source": [
        "char = input(\"Enter the Character : \")\n",
        "\n",
        "print(f\"The ASCII of Character {char} is {ord(char)}\")"
      ],
      "metadata": {
        "colab": {
          "base_uri": "https://localhost:8080/"
        },
        "id": "eSjAggvRZNFK",
        "outputId": "d73f3400-937e-4e4b-e54b-c6f66a0b6b73"
      },
      "execution_count": 60,
      "outputs": [
        {
          "output_type": "stream",
          "name": "stdout",
          "text": [
            "Enter the Character : a\n",
            "The ASCII of Character a is 97\n"
          ]
        }
      ]
    }
  ]
}