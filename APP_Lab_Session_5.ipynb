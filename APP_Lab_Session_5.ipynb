{
 "cells": [
  {
   "cell_type": "markdown",
   "metadata": {},
   "source": [
    "# Graded"
   ]
  },
  {
   "cell_type": "markdown",
   "metadata": {},
   "source": [
    "1. Create the below table and execute the insert, update and the below select statements.\n",
    "\n",
    "i) Write a query to display the total number of recipes available with the description\n",
    "“Chinese”\n",
    "ii) Write a query to display the id, name of the recipes with chef_id &#39;BL000002&#39;. iii)\n",
    "Write a query to display the description of the recipes whose name begins with &#39;P&#39;."
   ]
  },
  {
   "cell_type": "code",
   "execution_count": 11,
   "metadata": {},
   "outputs": [
    {
     "data": {
      "text/plain": [
       "<sqlite3.Cursor at 0x18a2accfdc0>"
      ]
     },
     "execution_count": 11,
     "metadata": {},
     "output_type": "execute_result"
    }
   ],
   "source": [
    "import sqlite3 as sql\n",
    "database=sql.connect(\"Market.txt\")\n",
    "\n",
    "database.execute('''\n",
    "                 CREATE TABLE recipes(\n",
    "                id int(11),\n",
    "                name varchar(100),\n",
    "                description text,\n",
    "                category_id int(11),\n",
    "                chef_id int(225),\n",
    "                created datetime);\n",
    "                 ''')\n",
    "\n",
    "\n",
    "database.execute(\"SELECT COUNT(name) FROM recipes WHERE description= 'Chinese';\")\n",
    "\n",
    "database.execute(\"SELECT id, name FROM recipes WHERE chef_id='BL000002';\")\n",
    "\n",
    "database.execute(\"SELECT description FROM recipes WHERE name LIKE 'P%';\")"
   ]
  },
  {
   "cell_type": "markdown",
   "metadata": {},
   "source": [
    "2. Create a table movie of the below structure and assume data types.Movie_ID,\n",
    "Movie_Name, Genre, Language, Rating ,Do the following queries\n",
    "a. Update the movies rating by 10% and display it\n",
    "b. Delete the movies with movie_id 102\n",
    "c. Select movies whose rating is more than 3."
   ]
  },
  {
   "cell_type": "code",
   "execution_count": 13,
   "metadata": {},
   "outputs": [
    {
     "data": {
      "text/plain": [
       "<sqlite3.Cursor at 0x18a2ace4490>"
      ]
     },
     "execution_count": 13,
     "metadata": {},
     "output_type": "execute_result"
    }
   ],
   "source": [
    "import sqlite3 as sql\n",
    "database=sql.connect(\"Market.txt\")\n",
    "\n",
    "database.execute('''\n",
    "                  CREATE TABLE movies(\n",
    "                    Movie_ID varchar(100),\n",
    "                    Movie_name char(100),\n",
    "                    Genre char(100),\n",
    "                    Language char(100),\n",
    "                    Rating int);\n",
    "                  ''')\n",
    "\n",
    "database.execute(\"UPDATE movies SET Rating = 0.1+Rating Where True;\")\n",
    "\n",
    "database.execute(\"DELETE FROM movies WHERE Movie_ID=102;\")\n",
    "\n",
    "database.execute(\"SELECT * FROM movies WHERE Rating>3;\")"
   ]
  },
  {
   "cell_type": "markdown",
   "metadata": {},
   "source": [
    "3. Create a course database with the following fields Product(ID, Prod_name,\n",
    "Supplier_id,Unit_price,Package,OrderID),OrderItem(ID,Order_id,Product_id,Unit_price,\n",
    "Quantity) using Foreign key\n",
    "d. Display the total quantity of every product in the stock\n",
    "e. Sort the Unit_price based on the supplier_id\n",
    "f. Display the Product_name along with order_id and supplier_id"
   ]
  },
  {
   "cell_type": "code",
   "execution_count": null,
   "metadata": {},
   "outputs": [],
   "source": [
    "import sqlite3 as sql\n",
    "database=sql.connect(\"Market.txt\")\n",
    "\n",
    "database.execute('''\n",
    "                 CREATE TABLE product(\n",
    "                ID int,\n",
    "                Prod_name char(100),\n",
    "                Supplier_id int,\n",
    "                Unit_price int,\n",
    "                Package char(100),\n",
    "                Order_id int);\n",
    "                 ''')\n",
    "\n",
    "database.execute('''\n",
    "                 CREATE TABLE orderItem(\n",
    "                ID int, \n",
    "                Order_id int,\n",
    "                Product_id int,\n",
    "                Unit_price int,\n",
    "                Quantity int);\n",
    "                 ''')\n",
    "\n",
    "database.execute('''\n",
    "                 SELECT Prod_name, SUM(Quantity) FROM Product\n",
    "                INNER JOIN OrderItem \n",
    "                ON Unit_price\n",
    "                GROUP BY Prod_name;\n",
    "                 ''')\n",
    "\n",
    "database.execute(\"SELECT Unit_price, Supplier_id FROM Product ORDER BY Supplier_id;\")\n",
    "\n",
    "database.execute(\"SELECT Prod_name, Order_id, Supplier_id FROM Product;\")"
   ]
  },
  {
   "cell_type": "markdown",
   "metadata": {},
   "source": [
    "4. Write a SQL lite3 statement to create a table named as job including columns\n",
    "\n",
    "job_id,job_title,Min-salary,Max_salary.job_id column does not contain any duplicate\n",
    "value at the time of insertion"
   ]
  },
  {
   "cell_type": "code",
   "execution_count": null,
   "metadata": {},
   "outputs": [],
   "source": [
    "import sqlite3 as sql\n",
    "database=sql.connect(\"Market.txt\")\n",
    "database.execute('''CREATE TABLE job(\n",
    "    job_id int UNIQUE, \n",
    "    job_title char(100),\n",
    "    Min_salary int,\n",
    "    Max_salary int);''')"
   ]
  },
  {
   "cell_type": "markdown",
   "metadata": {},
   "source": [
    "5. Write a SQL lite3 statement to create a table names as job_history including columns\n",
    "employee_id, start_date, end_date, job_id and department_id and make sure that, the\n",
    "employee_id column does not contain any duplicate value at the time of insertion and the\n",
    "foreign key column job_id contain only those values which are exists in the jobs table."
   ]
  },
  {
   "cell_type": "code",
   "execution_count": 9,
   "metadata": {},
   "outputs": [
    {
     "data": {
      "text/plain": [
       "<sqlite3.Cursor at 0x18a2accf420>"
      ]
     },
     "execution_count": 9,
     "metadata": {},
     "output_type": "execute_result"
    }
   ],
   "source": [
    "import sqlite3 as sql\n",
    "database=sql.connect(\"Market.txt\")\n",
    "database.execute('''CREATE TABLE job_history(\n",
    "    employee_id int UNIQUE,\n",
    "    start_date date,\n",
    "    end_date date,\n",
    "    job_id int,\n",
    "    department_id int,\n",
    "    FOREIGN KEY(job_id) REFERENCES Persons(employee_id));''')\n"
   ]
  }
 ],
 "metadata": {
  "interpreter": {
   "hash": "cb4a6ece8dc9cf1f5b1565d05f1a189d257ecb16f7f86b5ca0cc8563c18481dc"
  },
  "kernelspec": {
   "display_name": "Python 3.9.7 ('base')",
   "language": "python",
   "name": "python3"
  },
  "language_info": {
   "codemirror_mode": {
    "name": "ipython",
    "version": 3
   },
   "file_extension": ".py",
   "mimetype": "text/x-python",
   "name": "python",
   "nbconvert_exporter": "python",
   "pygments_lexer": "ipython3",
   "version": "3.9.7"
  },
  "orig_nbformat": 4
 },
 "nbformat": 4,
 "nbformat_minor": 2
}
