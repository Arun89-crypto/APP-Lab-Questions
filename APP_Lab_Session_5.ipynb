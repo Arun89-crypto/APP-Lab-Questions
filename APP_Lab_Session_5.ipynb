{
 "cells": [
  {
   "cell_type": "markdown",
   "metadata": {},
   "source": [
    "# Practice Questions:"
   ]
  },
  {
   "cell_type": "markdown",
   "metadata": {},
   "source": [
    "1. Write a SQL lites statement to create a table names as employees including columns\n",
    "employee_id, first_name, last_name, email, phone_numberhire_date, job_id, salary,\n",
    "commission, manager_id and department_id\n",
    "i) Insert values in the table and also execute the table structure\n",
    "ii) Display the first name, last name of an employees whose salary is greater than 25,000"
   ]
  },
  {
   "cell_type": "code",
   "execution_count": null,
   "metadata": {},
   "outputs": [],
   "source": [
    "CREATE DATABASE Task;\n",
    "\n",
    "USE Task;\n",
    "\n",
    "CREATE TABLE employees\n",
    "(employee_id int auto_increment, \n",
    "first_name char(100),\n",
    "last_name char(100), \n",
    "email varchar(100), \n",
    "phone_number varchar(100), \n",
    "hire_date varchar(100), \n",
    "job_id int, \n",
    "salary int,\n",
    "commission int,\n",
    "manager_id int,\n",
    "department_id int,\n",
    "PRIMARY KEY(employee_id));\n",
    "\n",
    "TRUNCATE TABLE employees;\n",
    "\n",
    "ALTER TABLE employees\n",
    "MODIFY COLUMN hire_date date;\n",
    "\n",
    "INSERT INTO employees(first_name, last_name, email, phone_number, hire_date, job_id, salary, commission, manager_id, department_id)\n",
    "VALUES ('Aditya', 'Udaya', 'ap@gmail.com', 457851224, '10-10-10', 1, 100000, 94564, 2, 1),\n",
    "('Arun', 'Jangra', 'aj@gmail.com', 515451215, '11-11-11', 6, 10000, 654846, 4, 2),\n",
    "('Sai', 'Kumar', 'sk@gmail.com', 84548454, '30-11-20', 4, 55541, 1000, 10, 11),\n",
    "('Avinash', 'Bolla', 'ab@gmail.com', 876549854, '20-04-04', 8, 100040, 432164, 7, 8),\n",
    "('Varma', 'Penmesta', 'vp@gmail.com', 78755884, '31-01-20', 10, 11646, 44654, 12, 21);\n",
    "\n",
    "SELECT * FROM employees;\n",
    "\n",
    "SELECT first_name, last_name FROM employees WHERE salary>25000;\n"
   ]
  },
  {
   "cell_type": "markdown",
   "metadata": {},
   "source": [
    "2. Create a table for Student with the following fields (Reg_no,stud_name,sex, and create a\n",
    "table Dept with the following fields(dept_no primary key, dept_name)\n",
    "a. Insert sample records and do the following\n",
    "b. Display the student reg_no,name and dept_name\n",
    "c. Display the student names ending with „ka‟\n",
    "d. Display all the female students name\n",
    "e. Display the student names by descending order"
   ]
  },
  {
   "cell_type": "code",
   "execution_count": null,
   "metadata": {},
   "outputs": [],
   "source": [
    "CREATE TABLE students(\n",
    "reg_no varchar(100),\n",
    "student_name char(100),\n",
    "sex char(100));\n",
    "\n",
    "CREATE TABLE department(\n",
    "dept_no int, dept_name char(100));\n",
    "\n",
    "INSERT INTO students()\n",
    "VALUES (\"RA16444684564\", \"Aditya\", \"male\"),\n",
    "(\"RA164446464654\", \"sanjuna\", \"female\"),\n",
    "(\"RA16444684564\", \"Dinesh\", \"male\"),\n",
    "(\"RA164446845854\", \"Arun\", \"male\"),\n",
    "(\"RA164446584545\", \"Sowmya\", \"male\");\n",
    "\n",
    "INSERT INTO department()\n",
    "VALUES (1, \"CSE\"),\n",
    "(2, \"Mech\"),\n",
    "(3, \"IT\"),\n",
    "(4, \"Auto\"),\n",
    "(5, \"Civil\");\n",
    "\n",
    "-- Not possible to merge the two columns as therse isn't any common column \n",
    "\n",
    "INSERT INTO students()\n",
    "VALUES (\"RA13115411254\",\"Navika\", \"female\");\n",
    "\n",
    "SELECT student_name from students WHERE student_name LIKE '%ka';\n",
    "\n",
    "SELECT student_name FROM students WHERE sex = 'female';\n",
    "\n",
    "SELECT student_name FROM students ORDER BY student_name DESC;"
   ]
  },
  {
   "cell_type": "markdown",
   "metadata": {},
   "source": [
    "# Graded"
   ]
  },
  {
   "cell_type": "markdown",
   "metadata": {},
   "source": [
    "1. Create the below table and execute the insert, update and the below select statements.\n",
    "\n",
    "i) Write a query to display the total number of recipes available with the description\n",
    "“Chinese”\n",
    "ii) Write a query to display the id, name of the recipes with chef_id &#39;BL000002&#39;. iii)\n",
    "Write a query to display the description of the recipes whose name begins with &#39;P&#39;."
   ]
  },
  {
   "cell_type": "code",
   "execution_count": null,
   "metadata": {},
   "outputs": [],
   "source": [
    "CREATE TABLE recipes(\n",
    "id int(11),\n",
    "name varchar(100),\n",
    "description text,\n",
    "category_id int(11),\n",
    "chef_id int(225),\n",
    "created datetime);\n",
    "\n",
    "\n",
    "SELECT COUNT(name) FROM recipes WHERE description= 'Chinese';\n",
    "\n",
    "SELECT id, name FROM recipes WHERE chef_id='BL000002';"
   ]
  }
 ],
 "metadata": {
  "language_info": {
   "name": "python"
  },
  "orig_nbformat": 4
 },
 "nbformat": 4,
 "nbformat_minor": 2
}
