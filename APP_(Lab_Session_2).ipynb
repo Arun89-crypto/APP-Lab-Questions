{
  "nbformat": 4,
  "nbformat_minor": 0,
  "metadata": {
    "colab": {
      "name": "APP (Lab Session 2)",
      "provenance": [],
      "collapsed_sections": [],
      "authorship_tag": "ABX9TyOhrNaya038Ani/RkJwBqkz",
      "include_colab_link": true
    },
    "kernelspec": {
      "name": "python3",
      "display_name": "Python 3"
    },
    "language_info": {
      "name": "python"
    }
  },
  "cells": [
    {
      "cell_type": "markdown",
      "metadata": {
        "id": "view-in-github",
        "colab_type": "text"
      },
      "source": [
        "<a href=\"https://colab.research.google.com/github/Arun89-crypto/APP-Lab-Questions/blob/main/APP_(Lab_Session_2).ipynb\" target=\"_parent\"><img src=\"https://colab.research.google.com/assets/colab-badge.svg\" alt=\"Open In Colab\"/></a>"
      ]
    },
    {
      "cell_type": "markdown",
      "source": [
        "# Easy Questions"
      ],
      "metadata": {
        "id": "Ani9Ng7hkbNP"
      }
    },
    {
      "cell_type": "markdown",
      "source": [
        "1. Write a Python program to find those numbers which are divisible by\n",
        "8 and multiple of 5, between 1000 and 2000 (both included)"
      ],
      "metadata": {
        "id": "0PBACldEigkF"
      }
    },
    {
      "cell_type": "code",
      "source": [
        "# Loop from 1000 - 2000\n",
        "for i in range(1000,2001):\n",
        "    if(i%5 == 0 and i%8 == 0):\n",
        "      print(i)"
      ],
      "metadata": {
        "id": "9p1gQ_0VimoU"
      },
      "execution_count": null,
      "outputs": []
    },
    {
      "cell_type": "markdown",
      "source": [
        "2. Write a Python program to guess a number between 1 to 9. Note : User\n",
        "is prompted to enter a guess. If the user guesses wrong then the prompt\n",
        "appears again until the guess is correct, on successful guess, user will get\n",
        "a \"Well guessed!\" message, and the program will exit."
      ],
      "metadata": {
        "id": "piZqiaTVjlNN"
      }
    },
    {
      "cell_type": "code",
      "source": [
        "import random\n",
        "num = random.randint(0,9)\n",
        "while True:\n",
        "  n = int(input(\"Enter your guess : \"))\n",
        "  if(n == num):\n",
        "    print(\"Well guessed!\")\n",
        "    break\n",
        "  else:\n",
        "    print(\"Nop!\")"
      ],
      "metadata": {
        "id": "tL_D8hMDjm3j"
      },
      "execution_count": null,
      "outputs": []
    },
    {
      "cell_type": "markdown",
      "source": [
        "3. Write a Python program to construct the following pattern, using a nested\n",
        "for loop.\n",
        "\n",
        "```\n",
        "*\n",
        "* *\n",
        "* * *\n",
        "* * * *\n",
        "* * * * *\n",
        "* * * *\n",
        "* * *\n",
        "* *\n",
        "*\n",
        "```\n",
        "\n"
      ],
      "metadata": {
        "id": "P2Yxnl2nklHZ"
      }
    },
    {
      "cell_type": "code",
      "source": [
        "n = int(input(\"Enter your number : \"))\n",
        "for i in range(1,n+1):\n",
        "  print(\"*\"*i)\n",
        "for i in range(n-1,0,-1):\n",
        "  print(\"*\"*i)"
      ],
      "metadata": {
        "id": "VgLneKG4kwYz"
      },
      "execution_count": null,
      "outputs": []
    },
    {
      "cell_type": "markdown",
      "source": [
        "4. Write a Python program which takes two digits m (row) and n\n",
        "(column) as input and generates a two-dimensional array. The element\n",
        "value in the i-th row and j-th column of the array should be i*j. \n",
        "\n",
        "  Note :\n",
        "\n",
        "  i = 0,1.., m-1\n",
        "\n",
        "  j = 0,1, n-1.\n",
        "\n",
        "  Test Data : Rows = 3, Columns = 4\n",
        "\n",
        "  Expected Result : [[0, 0, 0, 0], [0, 1, 2, 3], [0, 2, 4, 6]]"
      ],
      "metadata": {
        "id": "_LmFt1bklxm1"
      }
    },
    {
      "cell_type": "code",
      "source": [
        "n = int(input(\"Enter number of rows : \"))\n",
        "m = int(input(\"Enter number of cols : \"))\n",
        "\n",
        "arr = []\n",
        "\n",
        "for i in range(n):\n",
        "  temp = []\n",
        "  for j in range(m):\n",
        "    temp.append(i*j)\n",
        "  arr.append(temp)\n",
        "\n",
        "print(arr)"
      ],
      "metadata": {
        "id": "zRdYQfUXmQ7N"
      },
      "execution_count": null,
      "outputs": []
    },
    {
      "cell_type": "markdown",
      "source": [
        "5. Write a Python program that accepts a string and calculate the number\n",
        "of digits and letters.\n",
        "\n",
        "  Sample Data : SRMIST 2022\n",
        "\n",
        "  Expected Output :\n",
        "\n",
        "  Letters 6\n",
        "\n",
        "  Digits 4"
      ],
      "metadata": {
        "id": "V22yYXCToAtV"
      }
    },
    {
      "cell_type": "code",
      "source": [
        "s = input(\"Enter the string : \")\n",
        "letters = 0\n",
        "digits = 0\n",
        "for char in s:\n",
        "  if char.isdigit():\n",
        "    digits += 1\n",
        "  if char.isalpha():\n",
        "    letters += 1\n",
        "\n",
        "print(\"Letters : \", letters);\n",
        "print(\"Digits : \", digits);"
      ],
      "metadata": {
        "id": "LM-wkdLboSSq"
      },
      "execution_count": null,
      "outputs": []
    },
    {
      "cell_type": "markdown",
      "source": [
        "# Difficult Questions"
      ],
      "metadata": {
        "id": "RYfB30ciqIpb"
      }
    },
    {
      "cell_type": "markdown",
      "source": [
        "1. Find pythagorean triplet"
      ],
      "metadata": {
        "id": "cc57p7GUqpjy"
      }
    },
    {
      "cell_type": "code",
      "source": [
        "a = int(input(\"Enter num 1 : \"))\n",
        "b = int(input(\"Enter num 2 : \"))\n",
        "c = int(input(\"Enter num 3 : \"))\n",
        "\n",
        "a = a**2\n",
        "b = b**2\n",
        "c = c**2\n",
        "\n",
        "if(c == a + b or b == a + c or a == b + c):\n",
        "  print(\"Pythagorean triplet\")\n",
        "else:\n",
        "  print(\"Not a Pythagorean triplet\")"
      ],
      "metadata": {
        "id": "ID3jPapErVWf"
      },
      "execution_count": null,
      "outputs": []
    },
    {
      "cell_type": "markdown",
      "source": [
        "2. Write a program that accepts a series of name and salaries and End as input marks as the end of the loop. print the average salary and names and salaries of the lowest and highest salary "
      ],
      "metadata": {
        "id": "m928MGZysS-g"
      }
    },
    {
      "cell_type": "code",
      "source": [
        "from operator import itemgetter\n",
        "\n",
        "data = []\n",
        "count = 0\n",
        "\n",
        "while True:\n",
        "  name = input(\"Enter the name : \")\n",
        "  if(name == \"END\"):\n",
        "    break\n",
        "  salary = int(input(\"Enter the salary : \"))\n",
        "  data.append({\"name\" : name, \"salary\" : int(salary)})\n",
        "  count += 1\n",
        "\n",
        "newlist = sorted(data, key=itemgetter('salary')) \n",
        "\n",
        "average = 0\n",
        "\n",
        "for obj in newlist:\n",
        "  average += obj[\"salary\"]\n",
        "\n",
        "average = average/count\n",
        "\n",
        "print(average)\n",
        "print(\"Lowest : \",newlist[0][\"name\"] , newlist[0][\"salary\"])\n",
        "print(\"Highest : \",newlist[count-1][\"name\"] , newlist[count-1][\"salary\"])"
      ],
      "metadata": {
        "id": "jNY_tFMF232e"
      },
      "execution_count": null,
      "outputs": []
    },
    {
      "cell_type": "markdown",
      "source": [
        "3. print tables of powers of x"
      ],
      "metadata": {
        "id": "P9WbIncL7Lu-"
      }
    },
    {
      "cell_type": "code",
      "source": [
        "n = int(input(\"Enter the number : \"))\n",
        "\n",
        "for i in range(1,11):\n",
        "  print(n,\"^\",i,\"=\",n**i)"
      ],
      "metadata": {
        "id": "FP06HcQi7nXH"
      },
      "execution_count": null,
      "outputs": []
    }
  ]
}