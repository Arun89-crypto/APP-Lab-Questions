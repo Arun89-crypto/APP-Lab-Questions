{
 "cells": [
  {
   "cell_type": "code",
   "execution_count": 1,
   "id": "98ac9a3d",
   "metadata": {},
   "outputs": [],
   "source": [
    "import tkinter as tk\n",
    "root=tk.Tk()\n",
    "# setting the roots size\n",
    "root.geometry(\"400x200\")\n",
    "# declaring string variable\n",
    "# for storing name and password\n",
    "name_var=tk.StringVar() \n",
    "reg_var=tk.StringVar() \n",
    "passw_var=tk.StringVar() \n",
    "gender1 = tk.IntVar()\n",
    "gender2=tk.IntVar()\n",
    "age=tk.IntVar()\n",
    "\n",
    "name_label = tk.Label(root, text = 'Username').grid(row=0,column=0) \n",
    "name_entry = tk.Entry(root,textvariable = name_var).grid(row=0,column=1)\n",
    "\n",
    "Reg_label = tk.Label(root, text = 'Registration number:').grid(row=1,column=0) \n",
    "Reg_entry = tk.Entry(root,textvariable = reg_var).grid(row=1,column=1)\n",
    "\n",
    "passw_label = tk.Label(root, text = 'Password').grid(row=2,column=0) \n",
    "passw_entry=tk.Entry(root, textvariable = passw_var).grid(row=2,column=1)\n",
    "\n",
    "gender_lable=tk.Label(root,text=\"Gender: \").grid(row=3,column=0) \n",
    "radiobutton_1 = tk.Checkbutton(root, text='Male', variable=gender1).grid(row=3,column=1) \n",
    "radiobutton_2 = tk.Checkbutton(root, text='Female', variable=gender2).grid(row=3,column=2)\n",
    "\n",
    "age_lable=tk.Label(root,text=\"AGE:\").grid(row=4,column=0) \n",
    "age_entry=tk.Entry(root, textvariable=age).grid(row=4,column=1)\n",
    "\n",
    "but_insert=tk.Button(root,text='Insert',command=root.destroy).grid(row=5,column=0) \n",
    "but_update=tk.Button(root,text='Update',command=root.destroy).grid(row=5,column=1) \n",
    "but_delete=tk.Button(root,text='Delete',command=root.destroy).grid(row=6,column=0) \n",
    "but_select=tk.Button(root,text='Select',command=root.destroy).grid(row=6,column=1)\n",
    "# performing an infinite loop\n",
    "# for the root to display\n",
    "root.mainloop()"
   ]
  },
  {
   "cell_type": "code",
   "execution_count": null,
   "id": "17a58fc3",
   "metadata": {},
   "outputs": [],
   "source": []
  }
 ],
 "metadata": {
  "interpreter": {
   "hash": "3174ab881349d02230d0fd206fa4f068817145ae50885b59998c8fcf01d6fd57"
  },
  "kernelspec": {
   "display_name": "Python 3.9.7 ('base')",
   "language": "python",
   "name": "python3"
  },
  "language_info": {
   "codemirror_mode": {
    "name": "ipython",
    "version": 3
   },
   "file_extension": ".py",
   "mimetype": "text/x-python",
   "name": "python",
   "nbconvert_exporter": "python",
   "pygments_lexer": "ipython3",
   "version": "3.9.7"
  }
 },
 "nbformat": 4,
 "nbformat_minor": 5
}
