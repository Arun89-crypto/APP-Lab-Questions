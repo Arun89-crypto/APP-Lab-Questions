{
  "nbformat": 4,
  "nbformat_minor": 0,
  "metadata": {
    "colab": {
      "name": "APP (Lab Session 3)",
      "provenance": [],
      "authorship_tag": "ABX9TyMqV15xwwVupQ3/oqNhfdvw",
      "include_colab_link": true
    },
    "kernelspec": {
      "name": "python3",
      "display_name": "Python 3"
    },
    "language_info": {
      "name": "python"
    }
  },
  "cells": [
    {
      "cell_type": "markdown",
      "metadata": {
        "id": "view-in-github",
        "colab_type": "text"
      },
      "source": [
        "<a href=\"https://colab.research.google.com/github/Arun89-crypto/APP-Lab-Questions/blob/main/APP_(Lab_Session_3).ipynb\" target=\"_parent\"><img src=\"https://colab.research.google.com/assets/colab-badge.svg\" alt=\"Open In Colab\"/></a>"
      ]
    },
    {
      "cell_type": "markdown",
      "source": [
        "# Easy Questions"
      ],
      "metadata": {
        "id": "cK7WhjbJiVag"
      }
    },
    {
      "cell_type": "markdown",
      "source": [
        "1. Given a string, find its mirroring image"
      ],
      "metadata": {
        "id": "fhhXCS8wOfcm"
      }
    },
    {
      "cell_type": "code",
      "source": [
        "string = input(\"Enter the string : \")\n",
        "print(string[::-1])"
      ],
      "metadata": {
        "id": "2cxGEWPPOq__"
      },
      "execution_count": null,
      "outputs": []
    },
    {
      "cell_type": "markdown",
      "source": [
        "2. Check if two strings are Rotationally Equivalent\n",
        "\n",
        "  Sample Output\n",
        "\n",
        "  string 1 is : srmist\n",
        "\n",
        "  string 2 is : tsrmis\n",
        "\n",
        "  Are two strings Rotationally equal ? : True"
      ],
      "metadata": {
        "id": "fdyBhWRxPCUj"
      }
    },
    {
      "cell_type": "code",
      "source": [
        "string1 = input(\"Enter the string 1 : \")\n",
        "string2 = input(\"Enter the string 2 : \")\n",
        "res = False\n",
        "for i in range(len(string1)):\n",
        "  # print(string2[i:], string2[:i])\n",
        "  if string2[i:] + string2[:i] == string1:\n",
        "    res = True\n",
        "    break\n",
        "\n",
        "print(res)"
      ],
      "metadata": {
        "id": "aRprwQpiPLvn"
      },
      "execution_count": null,
      "outputs": []
    },
    {
      "cell_type": "markdown",
      "source": [
        "3. Given a number n, the task is to generate a random binary string of length n."
      ],
      "metadata": {
        "id": "20wZFMUqRbjM"
      }
    },
    {
      "cell_type": "code",
      "source": [
        "import random\n",
        "\n",
        "n = int(input(\"Enter the number : \"))\n",
        "digits = [\"0\",\"1\"]\n",
        "\n",
        "string = \"\"\n",
        "\n",
        "for i in range(n):\n",
        "  r = random.randint(0,1)\n",
        "  string += digits[r]\n",
        "\n",
        "print(string)"
      ],
      "metadata": {
        "colab": {
          "base_uri": "https://localhost:8080/"
        },
        "id": "elv68W3eRfbb",
        "outputId": "4e79324e-36ad-4fe0-ae9f-6d4ec75c8346"
      },
      "execution_count": null,
      "outputs": [
        {
          "output_type": "stream",
          "name": "stdout",
          "text": [
            "Enter the number : 4\n",
            "1100\n"
          ]
        }
      ]
    },
    {
      "cell_type": "markdown",
      "source": [
        "4. Given a string,\n",
        "remove punctuation and any special characters"
      ],
      "metadata": {
        "id": "Skr1f5qzSOSu"
      }
    },
    {
      "cell_type": "code",
      "source": [
        "string = input(\"Enter the string : \")\n",
        "\n",
        "for char in string:\n",
        "  if(not char.isalpha()):\n",
        "    string = string.replace(char,\"\")\n",
        "\n",
        "print(string)"
      ],
      "metadata": {
        "colab": {
          "base_uri": "https://localhost:8080/"
        },
        "id": "62BPHDeISWWR",
        "outputId": "8a0dfd74-080f-42f4-c166-fbd1642e9279"
      },
      "execution_count": null,
      "outputs": [
        {
          "output_type": "stream",
          "name": "stdout",
          "text": [
            "Enter the string : ABC@#\n",
            "ABC\n"
          ]
        }
      ]
    },
    {
      "cell_type": "markdown",
      "source": [
        "5. Write a Python program to count unique values in the list."
      ],
      "metadata": {
        "id": "ecgM03GDXlOW"
      }
    },
    {
      "cell_type": "code",
      "source": [
        "list_nums = [1,2,3,4,5,1,2,4]\n",
        "\n",
        "def elementCount(list_nums,num):\n",
        "  count = 0\n",
        "  for i in range(len(list_nums)):\n",
        "    if(list_nums[i] == num):\n",
        "      count += 1\n",
        "  return count\n",
        "\n",
        "ans = 0\n",
        "\n",
        "for i in list_nums:\n",
        "  if(elementCount(list_nums, i) == 1):\n",
        "    ans += 1\n",
        "\n",
        "print(\"Unique elements :\",ans)"
      ],
      "metadata": {
        "id": "uDmnM4ibX68V",
        "colab": {
          "base_uri": "https://localhost:8080/"
        },
        "outputId": "09e972e4-1b5f-4bb7-952b-ee9157c5ab7b"
      },
      "execution_count": null,
      "outputs": [
        {
          "output_type": "stream",
          "name": "stdout",
          "text": [
            "Unique elements : 2\n"
          ]
        }
      ]
    },
    {
      "cell_type": "markdown",
      "source": [
        "# Difficult Questions (**Set 9**)"
      ],
      "metadata": {
        "id": "Ik6POyOniadI"
      }
    },
    {
      "cell_type": "markdown",
      "source": [
        "1. Create a function showEmployee() in such a way that it should accept employee\n",
        "name, and it’s salary and display both, and if the salary is missing in function call it\n",
        "should show it as 9000"
      ],
      "metadata": {
        "id": "Wwj7eu-0ioeZ"
      }
    },
    {
      "cell_type": "code",
      "source": [
        "def showEmployee(name:str, salary=9000):\n",
        "  print(\"Name :\",name)\n",
        "  print(\"Salary :\",salary)\n",
        "\n",
        "showEmployee(\"Harry\")\n",
        "showEmployee(\"Ivanovich\", 100000)"
      ],
      "metadata": {
        "id": "VuV3jtRGidmE"
      },
      "execution_count": null,
      "outputs": []
    },
    {
      "cell_type": "markdown",
      "source": [
        "2. Write a Python program to create a lambda function that adds 15 to a given number\n",
        "passed in as an argument, also create a lambda function that multiplies argument x\n",
        "with argument y and print the result."
      ],
      "metadata": {
        "id": "GE9Oe2qKjSyy"
      }
    },
    {
      "cell_type": "code",
      "source": [
        "addfive = lambda x: x+15\n",
        "print(addfive(10))\n",
        "\n",
        "multiplyY = lambda x,y: x*y\n",
        "print(multiplyY(2,10))"
      ],
      "metadata": {
        "colab": {
          "base_uri": "https://localhost:8080/"
        },
        "id": "ctkm40GCjWVN",
        "outputId": "28d83be3-2dcf-44d0-c9b9-82a5c7d65cbf"
      },
      "execution_count": null,
      "outputs": [
        {
          "output_type": "stream",
          "name": "stdout",
          "text": [
            "25\n",
            "20\n"
          ]
        }
      ]
    },
    {
      "cell_type": "markdown",
      "source": [
        "3. Write a Python program to count the number of strings where the string length is 2 or\n",
        "more and the first and last character are same from a given list of strings."
      ],
      "metadata": {
        "id": "TkDZ-4fxlgel"
      }
    },
    {
      "cell_type": "code",
      "source": [
        "strings = [\"abc\", \"aa\", \"bacb\", \"algo\", \"pythonp\"]\n",
        "\n",
        "def count_strings(l:list):\n",
        "  count = 0\n",
        "  for s in l:\n",
        "    if(len(s) >= 2 and s[0] == s[len(s)-1]):\n",
        "      count+=1\n",
        "  return count\n",
        "\n",
        "print(\"String count :\",count_strings(strings))"
      ],
      "metadata": {
        "colab": {
          "base_uri": "https://localhost:8080/"
        },
        "id": "kvXx9SuTlofc",
        "outputId": "b796bfbe-644f-446e-9971-1713f8620d9e"
      },
      "execution_count": null,
      "outputs": [
        {
          "output_type": "stream",
          "name": "stdout",
          "text": [
            "String count : 3\n"
          ]
        }
      ]
    }
  ]
}