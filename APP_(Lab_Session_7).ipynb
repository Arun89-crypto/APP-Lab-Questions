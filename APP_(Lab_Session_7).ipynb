{
 "cells": [
  {
   "cell_type": "code",
   "execution_count": 2,
   "metadata": {},
   "outputs": [
    {
     "name": "stdout",
     "output_type": "stream",
     "text": [
      "3.28084\n"
     ]
    }
   ],
   "source": [
    "# 1. Write a lambda function to convert measurements from meters to feet.\n",
    "\n",
    "convert = lambda a : float(a)*3.28084\n",
    "\n",
    "value = input(\"Enter a number : \")\n",
    "\n",
    "meters = int(value)\n",
    "\n",
    "print(convert(value))"
   ]
  },
  {
   "cell_type": "code",
   "execution_count": 26,
   "metadata": {},
   "outputs": [
    {
     "name": "stdout",
     "output_type": "stream",
     "text": [
      "25\n",
      "625\n"
     ]
    }
   ],
   "source": [
    "# 2. Passing and returning a function as an argument\n",
    "# Define a function ‘square’ for squaring a number. Define a function named ‘twice’ that takes a\n",
    "# function f as an argument and returns f(f(x)). Using ‘twice’ and ‘square’ create a function ‘quad’\n",
    "# that takes n as an argument and returns n4. ‘quad’ should not be defined explicitly. It should\n",
    "# only be created as a variable which is then assigned a function.\n",
    "\n",
    "def square(a):\n",
    "    return a*a\n",
    "def twice(fun,a):\n",
    "    return (fun(fun(a)))\n",
    "def quad(a):\n",
    "    return twice(square,a)\n",
    "a=5\n",
    "print(square(a))\n",
    "print(quad(a))"
   ]
  },
  {
   "cell_type": "code",
   "execution_count": 23,
   "metadata": {},
   "outputs": [
    {
     "name": "stdout",
     "output_type": "stream",
     "text": [
      "the random list has been created = [9, 8, 5, 6, 8]\n",
      "9\n"
     ]
    }
   ],
   "source": [
    "# 3. In a lottery system, random number is chosen by retrieving the number from a random\n",
    "# index from a list of random numbers. Write a program to choose a random number in this\n",
    "# way. You must use nested functions – the inner function chooses a number from a random\n",
    "# index and the outer function generates a random list of numbers. The outer function takes\n",
    "# n as a parameter where is the maximum number that can be put in the random list.\n",
    "\n",
    "import random \n",
    "def randlist(n):\n",
    "    l1=[]\n",
    "    for i in range(0,n):\n",
    "        l1.append(random.randint(0,9))\n",
    "    print(\"the random list has been created = \"+str(l1))\n",
    "    def randnumber():\n",
    "        return random.choice(l1)\n",
    "    return randnumber\n",
    "\n",
    "res = randlist(5)\n",
    "print(res())"
   ]
  },
  {
   "cell_type": "code",
   "execution_count": null,
   "metadata": {},
   "outputs": [],
   "source": [
    "# 4.  Find the difference in age between the oldest and youngest family members, and return their\n",
    "# respective ages and the age difference.\n",
    "\n",
    "def diff(a,b):\n",
    "    return abs(a-b)\n",
    "a=int(input())\n",
    "b=int(input())\n",
    "print(diff(a,b))"
   ]
  },
  {
   "cell_type": "code",
   "execution_count": 7,
   "metadata": {},
   "outputs": [
    {
     "name": "stdout",
     "output_type": "stream",
     "text": [
      "HELLO\n"
     ]
    }
   ],
   "source": [
    "# 5. The given input is a string of multiple words with a single space between each of them.\n",
    "# Abbreviate the name and return the name initials.\n",
    "\n",
    "def solve(s):\n",
    "    tokens=s.split()\n",
    "    string=\"\"\n",
    "    for word in tokens:\n",
    "        string+=str(word[0])\n",
    "    return string.upper()\n",
    "s=input()\n",
    "print(solve(s))"
   ]
  }
 ],
 "metadata": {
  "interpreter": {
   "hash": "aee8b7b246df8f9039afb4144a1f6fd8d2ca17a180786b69acc140d282b71a49"
  },
  "kernelspec": {
   "display_name": "Python 3.7.9 64-bit",
   "language": "python",
   "name": "python3"
  },
  "language_info": {
   "codemirror_mode": {
    "name": "ipython",
    "version": 3
   },
   "file_extension": ".py",
   "mimetype": "text/x-python",
   "name": "python",
   "nbconvert_exporter": "python",
   "pygments_lexer": "ipython3",
   "version": "3.7.9"
  },
  "orig_nbformat": 4
 },
 "nbformat": 4,
 "nbformat_minor": 2
}
